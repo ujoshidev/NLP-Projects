{
  "nbformat": 4,
  "nbformat_minor": 0,
  "metadata": {
    "colab": {
      "name": "NLP_Chapter2_Sol",
      "provenance": []
    },
    "kernelspec": {
      "name": "python3",
      "display_name": "Python 3"
    },
    "language_info": {
      "name": "python"
    }
  },
  "cells": [
    {
      "cell_type": "markdown",
      "source": [
        "Q. Write regular expressions for the following languages.\n",
        "1. the set of all alphabetic strings;\n",
        "2. the set of all lower case alphabetic strings ending in a b;\n",
        "3. the set of all strings from the alphabet a,b such that each a is immediately preceded by and immediately followed by a b;\n",
        "\n"
      ],
      "metadata": {
        "id": "w_sSIJy4XKuC"
      }
    },
    {
      "cell_type": "code",
      "execution_count": 15,
      "metadata": {
        "colab": {
          "base_uri": "https://localhost:8080/"
        },
        "id": "AtjhPBa_XFgf",
        "outputId": "950b7876-7ea7-4bfd-9a69-154099970f4c"
      },
      "outputs": [
        {
          "output_type": "stream",
          "name": "stdout",
          "text": [
            "<re.Match object; span=(0, 52), match='abcdefghijklmnopqrstuvwxyzABCDEFGHIJKLMNOPQRSTUVW>\n",
            "abcdefghijklmnopqrstuvwxyzABCDEFGHIJKLMNOPQRSTUVWXYZ\n"
          ]
        }
      ],
      "source": [
        "import re\n",
        "import string\n",
        "\n",
        "s = string.ascii_lowercase + string.ascii_uppercase\n",
        "pattern = re.compile('[a-zA-Z]+')\n",
        "\n",
        "obj=pattern.search(s)\n",
        "\n",
        "print(obj)\n",
        "\n",
        "# [a-zA-Z] +"
      ]
    },
    {
      "cell_type": "markdown",
      "source": [
        "Q. Write regular expressions for the following languages. By “word”, we mean\n",
        "an alphabetic string separated from other words by whitespace, any relevant\n",
        "punctuation, line breaks, and so forth.\n",
        "1. the set of all strings with two consecutive repeated words (e.g., “Humbert Humbert” and “the the” but not “the bug” or “the big bug”);\n",
        "2. all strings that start at the beginning of the line with an integer and that\n",
        "end at the end of the line with a word;\n",
        "3. all strings that have both the word grotto and the word raven in them\n",
        "(but not, e.g., words like grottos that merely contain the word grotto);\n",
        "4. write a pattern that places the first word of an English sentence in a\n",
        "register. Deal with punctuation."
      ],
      "metadata": {
        "id": "CtdbVUmKaFoA"
      }
    },
    {
      "cell_type": "code",
      "source": [
        "#1\n",
        "\n",
        "s = \"Humbert Humbert struggling to to make this this work\"\n",
        "\n",
        "matches = re.findall(r'([A-Za-z0-9]+) \\1',s)\n",
        "\n",
        "print(matches)\n",
        "\n",
        "matches2 = re.findall(r'([A-Za-z0-9]+) (\\1)',s)\n",
        "print(matches2)\n",
        "\n",
        "#2\n",
        "s = '1zxchj sdcjkg aSHCG'\n",
        "\n",
        "matches3 = re.findall(r'^[0-9].+[a-zA-Z]+$',s)\n",
        "print(matches3)\n",
        "\n",
        "#3\n",
        "s = 'jb grottos jhf  grotto bdgdg raven sbsgs ravens nm '\n",
        "matches4 = re.findall(r'\\bgrotto\\b.*\\braven\\b|\\braven\\b.*\\bgrotto\\b',s)\n",
        "print(matches4)\n",
        "\n",
        "#4\n",
        "s = 'j,hd.gjhdg dhgdhjg dkjgjdgf jhdtuy'\n",
        "matches5 = re.findall(r'^[^a-zA-Z]*([a-zA-Z]+)',s)\n",
        "print(matches5)"
      ],
      "metadata": {
        "colab": {
          "base_uri": "https://localhost:8080/"
        },
        "id": "SM8_FJmxZ73z",
        "outputId": "99f83af3-dc78-49a1-c1dd-5f594367bc9f"
      },
      "execution_count": 42,
      "outputs": [
        {
          "output_type": "stream",
          "name": "stdout",
          "text": [
            "['Humbert', 'to', 'this']\n",
            "[('Humbert', 'Humbert'), ('to', 'to'), ('this', 'this')]\n",
            "['1zxchj sdcjkg aSHCG']\n",
            "['grotto bdgdg raven']\n",
            "['j']\n"
          ]
        }
      ]
    },
    {
      "cell_type": "markdown",
      "source": [
        "#ELIZA"
      ],
      "metadata": {
        "id": "iTDsBIKdgRBN"
      }
    },
    {
      "cell_type": "markdown",
      "source": [
        "References :\n",
        "http://chayden.net/eliza/Eliza.html"
      ],
      "metadata": {
        "id": "RyembmWcmsDs"
      }
    },
    {
      "cell_type": "code",
      "source": [
        "!wget https://raw.githubusercontent.com/wadetb/eliza/master/doctor.txt"
      ],
      "metadata": {
        "colab": {
          "base_uri": "https://localhost:8080/"
        },
        "id": "p1phCM0MhsEt",
        "outputId": "ee7fe7b9-950f-4cfb-9f92-9479473f4655"
      },
      "execution_count": 44,
      "outputs": [
        {
          "output_type": "stream",
          "name": "stdout",
          "text": [
            "--2022-05-30 10:33:09--  https://raw.githubusercontent.com/wadetb/eliza/master/doctor.txt\n",
            "Resolving raw.githubusercontent.com (raw.githubusercontent.com)... 185.199.110.133, 185.199.111.133, 185.199.108.133, ...\n",
            "Connecting to raw.githubusercontent.com (raw.githubusercontent.com)|185.199.110.133|:443... connected.\n",
            "HTTP request sent, awaiting response... 200 OK\n",
            "Length: 11931 (12K) [text/plain]\n",
            "Saving to: ‘doctor.txt’\n",
            "\n",
            "\rdoctor.txt            0%[                    ]       0  --.-KB/s               \rdoctor.txt          100%[===================>]  11.65K  --.-KB/s    in 0s      \n",
            "\n",
            "2022-05-30 10:33:09 (67.8 MB/s) - ‘doctor.txt’ saved [11931/11931]\n",
            "\n"
          ]
        }
      ]
    },
    {
      "cell_type": "code",
      "source": [
        "import logging\n",
        "import random\n",
        "import re\n",
        "from collections import namedtuple\n",
        "\n",
        "# Fix Python2/Python3 incompatibility\n",
        "try: input = raw_input\n",
        "except NameError: pass\n",
        "\n",
        "log = logging.getLogger(__name__)\n",
        "\n",
        "\n",
        "class Key:\n",
        "    def __init__(self, word, weight, decomps):\n",
        "        self.word = word\n",
        "        self.weight = weight\n",
        "        self.decomps = decomps\n",
        "\n",
        "\n",
        "class Decomp:\n",
        "    def __init__(self, parts, save, reasmbs):\n",
        "        self.parts = parts\n",
        "        self.save = save\n",
        "        self.reasmbs = reasmbs\n",
        "        self.next_reasmb_index = 0\n",
        "\n",
        "\n",
        "class Eliza:\n",
        "    def __init__(self):\n",
        "        self.initials = []\n",
        "        self.finals = []\n",
        "        self.quits = []\n",
        "        self.pres = {}\n",
        "        self.posts = {}\n",
        "        self.synons = {}\n",
        "        self.keys = {}\n",
        "        self.memory = []\n",
        "\n",
        "    def load(self, path):\n",
        "        key = None\n",
        "        decomp = None\n",
        "        with open(path) as file:\n",
        "            for line in file:\n",
        "                if not line.strip():\n",
        "                    continue\n",
        "                tag, content = [part.strip() for part in line.split(':')]\n",
        "                if tag == 'initial':\n",
        "                    self.initials.append(content)\n",
        "                elif tag == 'final':\n",
        "                    self.finals.append(content)\n",
        "                elif tag == 'quit':\n",
        "                    self.quits.append(content)\n",
        "                elif tag == 'pre':\n",
        "                    parts = content.split(' ')\n",
        "                    self.pres[parts[0]] = parts[1:]\n",
        "                elif tag == 'post':\n",
        "                    parts = content.split(' ')\n",
        "                    self.posts[parts[0]] = parts[1:]\n",
        "                elif tag == 'synon':\n",
        "                    parts = content.split(' ')\n",
        "                    self.synons[parts[0]] = parts\n",
        "                elif tag == 'key':\n",
        "                    parts = content.split(' ')\n",
        "                    word = parts[0]\n",
        "                    weight = int(parts[1]) if len(parts) > 1 else 1\n",
        "                    key = Key(word, weight, [])\n",
        "                    self.keys[word] = key\n",
        "                elif tag == 'decomp':\n",
        "                    parts = content.split(' ')\n",
        "                    save = False\n",
        "                    if parts[0] == '$':\n",
        "                        save = True\n",
        "                        parts = parts[1:]\n",
        "                    decomp = Decomp(parts, save, [])\n",
        "                    key.decomps.append(decomp)\n",
        "                elif tag == 'reasmb':\n",
        "                    parts = content.split(' ')\n",
        "                    decomp.reasmbs.append(parts)\n",
        "\n",
        "    def _match_decomp_r(self, parts, words, results):\n",
        "        if not parts and not words:\n",
        "            return True\n",
        "        if not parts or (not words and parts != ['*']):\n",
        "            return False\n",
        "        if parts[0] == '*':\n",
        "            for index in range(len(words), -1, -1):\n",
        "                results.append(words[:index])\n",
        "                if self._match_decomp_r(parts[1:], words[index:], results):\n",
        "                    return True\n",
        "                results.pop()\n",
        "            return False\n",
        "        elif parts[0].startswith('@'):\n",
        "            root = parts[0][1:]\n",
        "            if not root in self.synons:\n",
        "                raise ValueError(\"Unknown synonym root {}\".format(root))\n",
        "            if not words[0].lower() in self.synons[root]:\n",
        "                return False\n",
        "            results.append([words[0]])\n",
        "            return self._match_decomp_r(parts[1:], words[1:], results)\n",
        "        elif parts[0].lower() != words[0].lower():\n",
        "            return False\n",
        "        else:\n",
        "            return self._match_decomp_r(parts[1:], words[1:], results)\n",
        "\n",
        "    def _match_decomp(self, parts, words):\n",
        "        results = []\n",
        "        if self._match_decomp_r(parts, words, results):\n",
        "            return results\n",
        "        return None\n",
        "\n",
        "    def _next_reasmb(self, decomp):\n",
        "        index = decomp.next_reasmb_index\n",
        "        result = decomp.reasmbs[index % len(decomp.reasmbs)]\n",
        "        decomp.next_reasmb_index = index + 1\n",
        "        return result\n",
        "\n",
        "    def _reassemble(self, reasmb, results):\n",
        "        output = []\n",
        "        for reword in reasmb:\n",
        "            if not reword:\n",
        "                continue\n",
        "            if reword[0] == '(' and reword[-1] == ')':\n",
        "                index = int(reword[1:-1])\n",
        "                if index < 1 or index > len(results):\n",
        "                    raise ValueError(\"Invalid result index {}\".format(index))\n",
        "                insert = results[index - 1]\n",
        "                for punct in [',', '.', ';']:\n",
        "                    if punct in insert:\n",
        "                        insert = insert[:insert.index(punct)]\n",
        "                output.extend(insert)\n",
        "            else:\n",
        "                output.append(reword)\n",
        "        return output\n",
        "\n",
        "    def _sub(self, words, sub):\n",
        "        output = []\n",
        "        for word in words:\n",
        "            word_lower = word.lower()\n",
        "            if word_lower in sub:\n",
        "                output.extend(sub[word_lower])\n",
        "            else:\n",
        "                output.append(word)\n",
        "        return output\n",
        "\n",
        "    def _match_key(self, words, key):\n",
        "        for decomp in key.decomps:\n",
        "            results = self._match_decomp(decomp.parts, words)\n",
        "            if results is None:\n",
        "                log.debug('Decomp did not match: %s', decomp.parts)\n",
        "                continue\n",
        "            log.debug('Decomp matched: %s', decomp.parts)\n",
        "            log.debug('Decomp results: %s', results)\n",
        "            results = [self._sub(words, self.posts) for words in results]\n",
        "            log.debug('Decomp results after posts: %s', results)\n",
        "            reasmb = self._next_reasmb(decomp)\n",
        "            log.debug('Using reassembly: %s', reasmb)\n",
        "            if reasmb[0] == 'goto':\n",
        "                goto_key = reasmb[1]\n",
        "                if not goto_key in self.keys:\n",
        "                    raise ValueError(\"Invalid goto key {}\".format(goto_key))\n",
        "                log.debug('Goto key: %s', goto_key)\n",
        "                return self._match_key(words, self.keys[goto_key])\n",
        "            output = self._reassemble(reasmb, results)\n",
        "            if decomp.save:\n",
        "                self.memory.append(output)\n",
        "                log.debug('Saved to memory: %s', output)\n",
        "                continue\n",
        "            return output\n",
        "        return None\n",
        "\n",
        "    def respond(self, text):\n",
        "        if text.lower() in self.quits:\n",
        "            return None\n",
        "\n",
        "        text = re.sub(r'\\s*\\.+\\s*', ' . ', text)\n",
        "        text = re.sub(r'\\s*,+\\s*', ' , ', text)\n",
        "        text = re.sub(r'\\s*;+\\s*', ' ; ', text)\n",
        "        log.debug('After punctuation cleanup: %s', text)\n",
        "\n",
        "        words = [w for w in text.split(' ') if w]\n",
        "        log.debug('Input: %s', words)\n",
        "\n",
        "        words = self._sub(words, self.pres)\n",
        "        log.debug('After pre-substitution: %s', words)\n",
        "\n",
        "        keys = [self.keys[w.lower()] for w in words if w.lower() in self.keys]\n",
        "        keys = sorted(keys, key=lambda k: -k.weight)\n",
        "        log.debug('Sorted keys: %s', [(k.word, k.weight) for k in keys])\n",
        "\n",
        "        output = None\n",
        "\n",
        "        for key in keys:\n",
        "            output = self._match_key(words, key)\n",
        "            if output:\n",
        "                log.debug('Output from key: %s', output)\n",
        "                break\n",
        "        if not output:\n",
        "            if self.memory:\n",
        "                index = random.randrange(len(self.memory))\n",
        "                output = self.memory.pop(index)\n",
        "                log.debug('Output from memory: %s', output)\n",
        "            else:\n",
        "                output = self._next_reasmb(self.keys['xnone'].decomps[0])\n",
        "                log.debug('Output from xnone: %s', output)\n",
        "\n",
        "        return \" \".join(output)\n",
        "\n",
        "    def initial(self):\n",
        "        return random.choice(self.initials)\n",
        "\n",
        "    def final(self):\n",
        "        return random.choice(self.finals)\n",
        "\n",
        "    def run(self):\n",
        "        print(self.initial())\n",
        "\n",
        "        while True:\n",
        "            sent = input('> ')\n",
        "\n",
        "            output = self.respond(sent)\n",
        "            if output is None:\n",
        "                break\n",
        "\n",
        "            print(output)\n",
        "\n",
        "        print(self.final())\n",
        "\n",
        "\n",
        "def main():\n",
        "    eliza = Eliza()\n",
        "    eliza.load('/content/doctor.txt')\n",
        "    eliza.run()\n",
        "\n",
        "if __name__ == '__main__':\n",
        "    logging.basicConfig()\n",
        "    main()"
      ],
      "metadata": {
        "colab": {
          "base_uri": "https://localhost:8080/"
        },
        "id": "xbxFGfaChOIl",
        "outputId": "c6ddc6cd-52b3-4005-fd82-5311c6495660"
      },
      "execution_count": 45,
      "outputs": [
        {
          "output_type": "stream",
          "name": "stdout",
          "text": [
            "How do you do.  Please tell me your problem.\n",
            "> problem\n",
            "I'm not sure I understand you fully.\n",
            "> I want a chatbot\n",
            "What would it mean to you if you got a chatbot ?\n",
            "> my life\n",
            "Your life ?\n",
            "> bye\n",
            "Goodbye.  Thank you for talking to me.\n"
          ]
        }
      ]
    },
    {
      "cell_type": "markdown",
      "source": [
        "# Minimum edit distance"
      ],
      "metadata": {
        "id": "VR9aXShHmxMi"
      }
    },
    {
      "cell_type": "code",
      "source": [
        "def edit_distance(string1, string2):\n",
        "    \"\"\"Ref: https://bit.ly/2Pf4a6Z\"\"\"\n",
        "\n",
        "    if len(string1) > len(string2):\n",
        "        difference = len(string1) - len(string2)\n",
        "        string1[:difference]\n",
        "\n",
        "    elif len(string2) > len(string1):\n",
        "        difference = len(string2) - len(string1)\n",
        "        string2[:difference]\n",
        "\n",
        "    else:\n",
        "        difference = 0\n",
        "\n",
        "    for i in range(len(string1)):\n",
        "        if string1[i] != string2[i]:\n",
        "            difference += 1\n",
        "\n",
        "    return difference"
      ],
      "metadata": {
        "id": "5DxDMluLmw0M"
      },
      "execution_count": 46,
      "outputs": []
    },
    {
      "cell_type": "code",
      "source": [
        "print(edit_distance(\"kitten\", \"sitting\")) #3\n",
        "print(edit_distance(\"medium\", \"median\")) #2  "
      ],
      "metadata": {
        "colab": {
          "base_uri": "https://localhost:8080/"
        },
        "id": "RBbCtYHengCi",
        "outputId": "8ee6669e-ffeb-4265-f1f5-a3a8a90257cc"
      },
      "execution_count": 47,
      "outputs": [
        {
          "output_type": "stream",
          "name": "stdout",
          "text": [
            "3\n",
            "2\n"
          ]
        }
      ]
    },
    {
      "cell_type": "code",
      "source": [
        "print(edit_distance(\"leda\", \"deal\"))"
      ],
      "metadata": {
        "colab": {
          "base_uri": "https://localhost:8080/"
        },
        "id": "zRowULH-nilb",
        "outputId": "7c1c6b94-5ac5-4657-cc78-b964439f382a"
      },
      "execution_count": 48,
      "outputs": [
        {
          "output_type": "stream",
          "name": "stdout",
          "text": [
            "3\n"
          ]
        }
      ]
    },
    {
      "cell_type": "code",
      "source": [
        "print(edit_distance(\"drive\", \"brief\"))  \n",
        "print(edit_distance(\"drive\", \"divers\")) "
      ],
      "metadata": {
        "colab": {
          "base_uri": "https://localhost:8080/"
        },
        "id": "JJwLt7BVnqY9",
        "outputId": "e6d31b67-3b37-4f37-a7a8-7bf697050a10"
      },
      "execution_count": 49,
      "outputs": [
        {
          "output_type": "stream",
          "name": "stdout",
          "text": [
            "3\n",
            "5\n"
          ]
        }
      ]
    }
  ]
}